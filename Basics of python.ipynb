{
 "cells": [
  {
   "cell_type": "markdown",
   "id": "8c1ced44",
   "metadata": {},
   "source": [
    "# Jupyter Notebook has a variety of keyboard shortcuts that can make your workflow more efficient. Here are some of the most commonly used Jupyter Notebook shortcuts:\n",
    "\n",
    "##### Shift + Enter: Run the current cell and move to the next cell.\n",
    "##### Ctrl + Enter: Run the current cell and stay on the same cell.\n",
    "##### Alt + Enter: Run the current cell and insert a new cell below.\n",
    "##### Esc: Switch to command mode.\n",
    "##### Enter: Switch to edit mode.\n",
    "##### A: Insert a new cell above the current cell.\n",
    "##### B: Insert a new cell below the current cell.\n",
    "##### D, D: Delete the current cell.\n",
    "##### M: Change the current cell to a Markdown cell.\n",
    "##### Y: Change the current cell to a code cell.\n",
    "##### Shift + Up/Down arrow: Select multiple cells.\n",
    "##### Shift + M: Merge selected cells.\n",
    "##### Ctrl + S: Save the notebook.\n",
    "##### Shift + Tab: Show the documentation for the current function or method.\n",
    "### These are just a few of the many keyboard shortcuts available in Jupyter Notebook. You can see a full list of shortcuts by clicking on the \"Keyboard Shortcuts\" option in the Help menu of the Jupyter Notebook interface.\n",
    "\n",
    "\n",
    "\n",
    "\n",
    "\n"
   ]
  },
  {
   "cell_type": "code",
   "execution_count": null,
   "id": "21b46729",
   "metadata": {},
   "outputs": [],
   "source": []
  },
  {
   "cell_type": "code",
   "execution_count": null,
   "id": "b52221a9",
   "metadata": {},
   "outputs": [],
   "source": []
  },
  {
   "cell_type": "code",
   "execution_count": null,
   "id": "8b48c6a9",
   "metadata": {},
   "outputs": [],
   "source": []
  },
  {
   "cell_type": "code",
   "execution_count": null,
   "id": "fa53cc43",
   "metadata": {},
   "outputs": [],
   "source": []
  },
  {
   "cell_type": "code",
   "execution_count": null,
   "id": "6c6e2969",
   "metadata": {},
   "outputs": [],
   "source": []
  },
  {
   "cell_type": "code",
   "execution_count": null,
   "id": "5d32c146",
   "metadata": {},
   "outputs": [],
   "source": []
  },
  {
   "cell_type": "code",
   "execution_count": null,
   "id": "0c8ec895",
   "metadata": {},
   "outputs": [],
   "source": []
  },
  {
   "cell_type": "code",
   "execution_count": null,
   "id": "0f6ebe51",
   "metadata": {},
   "outputs": [],
   "source": []
  },
  {
   "cell_type": "code",
   "execution_count": null,
   "id": "1fa893f3",
   "metadata": {},
   "outputs": [],
   "source": []
  },
  {
   "cell_type": "code",
   "execution_count": null,
   "id": "efacf2ab",
   "metadata": {},
   "outputs": [],
   "source": []
  },
  {
   "cell_type": "code",
   "execution_count": null,
   "id": "9a2e7a72",
   "metadata": {},
   "outputs": [],
   "source": []
  },
  {
   "cell_type": "code",
   "execution_count": null,
   "id": "a3e4571c",
   "metadata": {},
   "outputs": [],
   "source": []
  }
 ],
 "metadata": {
  "kernelspec": {
   "display_name": "Python 3 (ipykernel)",
   "language": "python",
   "name": "python3"
  },
  "language_info": {
   "codemirror_mode": {
    "name": "ipython",
    "version": 3
   },
   "file_extension": ".py",
   "mimetype": "text/x-python",
   "name": "python",
   "nbconvert_exporter": "python",
   "pygments_lexer": "ipython3",
   "version": "3.10.9"
  }
 },
 "nbformat": 4,
 "nbformat_minor": 5
}
