{
 "cells": [
  {
   "cell_type": "code",
   "execution_count": 1,
   "metadata": {},
   "outputs": [],
   "source": [
    "dict = {'Yashu': 1234567890,'Gayathri':2345678910,'Mahesh':3456789101}\n",
    "li = list(dict.values())\n",
    "def phone():\n",
    "    print(\"1. Display Phone Number\")\n",
    "    print(\"2. Add a Phone Number\")\n",
    "    print(\"3. Search Contact\")\n",
    "    print(\"4. Quit\")\n",
    "    print()\n",
    "    while True:\n",
    "        num = int(input(\"Type in a number (1-4): \"))\n",
    "        if num == 1:\n",
    "            print(\"Telephone Numbers:\")\n",
    "            print(dict)\n",
    "\n",
    "        elif num == 2:\n",
    "            print(\"Add Name and Number\")\n",
    "            name = input(\"Enter Name: \")\n",
    "            if name in dict:\n",
    "                print(dict.get(name))\n",
    "\n",
    "            else:\n",
    "                number = int(input(\"Enter Phone Number: \"))\n",
    "                dict[name] = number\n",
    "                dict.update({name:number})\n",
    "                print(\"Details Updated\")\n",
    "                \n",
    "        elif num == 3:\n",
    "            name = input(\"Enter name you are searching for?\")\n",
    "            if name in dict:\n",
    "                print(dict.get(name))\n",
    "        \n",
    "            else:\n",
    "                print(\"No name in the list\")\n",
    "                return None\n",
    "            \n",
    "        elif num == 4:\n",
    "            print(\"Quit\")\n",
    "            break\n",
    "            \n",
    "        else:\n",
    "            phone()\n"
   ]
  },
  {
   "cell_type": "code",
   "execution_count": 2,
   "metadata": {},
   "outputs": [
    {
     "name": "stdout",
     "output_type": "stream",
     "text": [
      "1. Display Phone Number\n",
      "2. Add a Phone Number\n",
      "3. Search Contact\n",
      "4. Quit\n",
      "\n",
      "Type in a number (1-4): 1\n",
      "Telephone Numbers:\n",
      "{'Yashu': 1234567890, 'Gayathri': 2345678910, 'Mahesh': 3456789101}\n",
      "Type in a number (1-4): 2\n",
      "Add Name and Number\n",
      "Enter Name: ram\n",
      "Enter Phone Number: 7848571200\n",
      "Details Updated\n",
      "Type in a number (1-4): 1\n",
      "Telephone Numbers:\n",
      "{'Yashu': 1234567890, 'Gayathri': 2345678910, 'Mahesh': 3456789101, 'ram': 7848571200}\n",
      "Type in a number (1-4): 3\n",
      "Enter name you are searching for?ram\n",
      "7848571200\n",
      "Type in a number (1-4): 4\n",
      "Quit\n"
     ]
    }
   ],
   "source": [
    "phone()"
   ]
  },
  {
   "cell_type": "code",
   "execution_count": null,
   "metadata": {},
   "outputs": [],
   "source": []
  }
 ],
 "metadata": {
  "kernelspec": {
   "display_name": "Python 3",
   "language": "python",
   "name": "python3"
  },
  "language_info": {
   "codemirror_mode": {
    "name": "ipython",
    "version": 3
   },
   "file_extension": ".py",
   "mimetype": "text/x-python",
   "name": "python",
   "nbconvert_exporter": "python",
   "pygments_lexer": "ipython3",
   "version": "3.8.5"
  }
 },
 "nbformat": 4,
 "nbformat_minor": 4
}
