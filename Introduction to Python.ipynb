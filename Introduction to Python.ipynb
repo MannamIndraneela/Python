{
 "cells": [
  {
   "cell_type": "markdown",
   "metadata": {},
   "source": [
    "### Operators in Python"
   ]
  },
  {
   "cell_type": "code",
   "execution_count": 18,
   "metadata": {},
   "outputs": [
    {
     "name": "stdout",
     "output_type": "stream",
     "text": [
      "8\n",
      "-2\n",
      "15\n",
      "0.6\n",
      "True\n",
      "True\n",
      "False\n",
      "False\n",
      "False\n",
      "True\n",
      "False\n",
      "False\n",
      "False\n",
      "True\n"
     ]
    }
   ],
   "source": [
    "'''Operators: Symbolic representations of mathematical tasks +,-,*,/\n",
    "Operators are divided in to 3 kinds\n",
    "Arithmetic Operator\n",
    "Conditional Operator\n",
    "Logical Operator'''\n",
    "\n",
    "'Arithmetic Operator: Helps us in doing arithmetic tasks'\n",
    "#Ex: + , - , * , / \n",
    "#Addition:\n",
    "print(3+5)\n",
    "#Subtraction:\n",
    "print(3-5)\n",
    "#Multiplication:\n",
    "print(3*5)\n",
    "#Division:\n",
    "print(3/5)\n",
    "\n",
    "\n",
    "'Conditional Operator: Returns only True or False'\n",
    "#Ex: < , <= , > , >= , == , !=\n",
    "#Less than:\n",
    "print(3<5)\n",
    "#Less tan or equal to:\n",
    "print(3<=5)\n",
    "#Greater than:\n",
    "print(3>5)\n",
    "#Greater than or equal to:\n",
    "print(3>=5)\n",
    "#Equal to:\n",
    "print(3==5)\n",
    "#Not equal to:\n",
    "print(3!=5)\n",
    "\n",
    "\n",
    "'''Logical Operator:Logical operators are used on conditional statements (either True or False).\n",
    "They perform Logical AND, Logical OR and Logical NOT operations'''\n",
    "#Ex:and, or, not\n",
    "#and:\n",
    "a=((3>5) and (3>=5))\n",
    "print(a)\n",
    "#or:\n",
    "b=((3>5) or (3>=5))\n",
    "print(b)\n",
    "#not:\n",
    "c=3\n",
    "d=5\n",
    "print(c>d)\n",
    "print(not c>d)\n"
   ]
  },
  {
   "cell_type": "markdown",
   "metadata": {},
   "source": [
    "### Variables and Data Types"
   ]
  },
  {
   "cell_type": "code",
   "execution_count": 20,
   "metadata": {},
   "outputs": [
    {
     "name": "stdout",
     "output_type": "stream",
     "text": [
      "5\n",
      "3\n"
     ]
    }
   ],
   "source": [
    "#Variables are names bounded to objects\n",
    "i=5\n",
    "j=i\n",
    "j=3\n",
    "print(i)\n",
    "print(j)"
   ]
  },
  {
   "cell_type": "code",
   "execution_count": null,
   "metadata": {},
   "outputs": [],
   "source": [
    "### Variables naming rules in python\n",
    "\n",
    "'Python is case-sensitive'\n",
    "#Ex:A=5 and a=5 are different\n",
    "\n",
    "'Variable name cannot start with special character except underscore(_)'\n",
    "#Ex: _sam=5 is valid but @sam=5 is invalid\n",
    "\n",
    "'Variable name cannot start with a number'\n",
    "#Ex: 9sam=5 is invalid\n",
    "\n"
   ]
  },
  {
   "cell_type": "code",
   "execution_count": null,
   "metadata": {},
   "outputs": [],
   "source": [
    "### Data types in python\n",
    "\n",
    "'Integers' - int\n",
    "#Ex: 3, -5\n",
    "\n",
    "'Float' - float\n",
    "#Ex: 3.5, 4.8\n",
    "\n",
    "'Boolean Values' - bool\n",
    "#Ex: True or False\n",
    "\n",
    "'Strings' - str\n",
    "#Ex: \"Python\" , \"Indu\" \n"
   ]
  },
  {
   "cell_type": "code",
   "execution_count": 22,
   "metadata": {},
   "outputs": [
    {
     "name": "stdout",
     "output_type": "stream",
     "text": [
      "5\n",
      "4\n"
     ]
    }
   ],
   "source": [
    "#Variable Assignment\n",
    "a=5\n",
    "A=4\n",
    "print(a)\n",
    "print(A)"
   ]
  },
  {
   "cell_type": "code",
   "execution_count": 23,
   "metadata": {},
   "outputs": [
    {
     "name": "stdout",
     "output_type": "stream",
     "text": [
      "3\n",
      "7\n"
     ]
    }
   ],
   "source": [
    "#How variables work in python\n",
    "a=7\n",
    "b=a\n",
    "a=3 \n",
    "print(a)\n",
    "print(b)"
   ]
  },
  {
   "cell_type": "markdown",
   "metadata": {},
   "source": [
    "### Conditional Statements"
   ]
  },
  {
   "cell_type": "code",
   "execution_count": null,
   "metadata": {},
   "outputs": [],
   "source": [
    "#If-else statements : Single condition\n",
    "#Syntax:\n",
    "'''\n",
    "if(condition):\n",
    "    statement 1\n",
    "else:\n",
    "    statement 2\n",
    "'''\n",
    "#Ex:\n",
    "'''\n",
    "if(time==late):\n",
    "    food=order\n",
    "else:\n",
    "    food=cook\n",
    "'''    "
   ]
  },
  {
   "cell_type": "code",
   "execution_count": null,
   "metadata": {},
   "outputs": [],
   "source": [
    "#If-elif-else statements : Multiple Conditions\n",
    "#Syntax:\n",
    "'''\n",
    "if(condition1):\n",
    "    statement 1\n",
    "elif(condition2):\n",
    "    statement 2\n",
    "else:\n",
    "    statement 3\n",
    "'''    \n"
   ]
  },
  {
   "cell_type": "code",
   "execution_count": 29,
   "metadata": {},
   "outputs": [
    {
     "name": "stdout",
     "output_type": "stream",
     "text": [
      "Enter X value: 0\n",
      "x is equal to 0\n"
     ]
    }
   ],
   "source": [
    "#Ex: Assume a variable x, print \"positive\" if x is greater than 0, \n",
    "#print \"Zero\" if x is equal to 0 or print \"negative\" if x is less than 0\n",
    "\n",
    "x= int(input(\"Enter X value: \"))\n",
    "if x>0 :\n",
    "    print(\"x is positive\")\n",
    "elif x==0 :\n",
    "    print(\"x is equal to 0\")\n",
    "else:\n",
    "    print(\"x is negative\")"
   ]
  },
  {
   "cell_type": "code",
   "execution_count": 35,
   "metadata": {},
   "outputs": [
    {
     "name": "stdout",
     "output_type": "stream",
     "text": [
      "Enter x value: 10\n",
      "Even number\n"
     ]
    }
   ],
   "source": [
    "#Ex: Take a variable x and print \"Even\" if the number is divisible by 2, otherwise print \"Odd\"\n",
    "\n",
    "x=int(input(\"Enter x value: \"))\n",
    "if (x%2)==0:\n",
    "    print(\"Even number\")\n",
    "else:\n",
    "    print(\"Odd number\")\n"
   ]
  },
  {
   "cell_type": "code",
   "execution_count": 39,
   "metadata": {},
   "outputs": [
    {
     "name": "stdout",
     "output_type": "stream",
     "text": [
      "Enter marks of y: 35\n",
      "Grade F\n"
     ]
    }
   ],
   "source": [
    "#Ex: Take a variable y and print \"Grade A\" if y is greater than 90, \"Grade B\" if y is greater than 60 but less than or equal to 90 and \"Grade F\" Otherwise.\n",
    "\n",
    "y = int(input(\"Enter marks of y: \"))\n",
    "if y>90:\n",
    "    print(\"Grade A\")\n",
    "elif y>60 and y<=90:\n",
    "    print(\"Grade B\")\n",
    "else:\n",
    "    print(\"Grade F\")"
   ]
  },
  {
   "cell_type": "markdown",
   "metadata": {},
   "source": [
    "### Loops"
   ]
  },
  {
   "cell_type": "code",
   "execution_count": 42,
   "metadata": {
    "slideshow": {
     "slide_type": "skip"
    }
   },
   "outputs": [
    {
     "name": "stdout",
     "output_type": "stream",
     "text": [
      "Python is awesome\n",
      "Python is awesome\n",
      "Python is awesome\n",
      "Python is awesome\n",
      "Python is awesome\n",
      "Python is awesome\n",
      "Python is awesome\n",
      "Python is awesome\n",
      "Python is awesome\n",
      "Python is awesome\n",
      "Python is awesome\n",
      "Python is awesome\n",
      "Python is awesome\n",
      "Python is awesome\n",
      "Python is awesome\n",
      "Python is awesome\n",
      "Python is awesome\n",
      "Python is awesome\n",
      "Python is awesome\n",
      "Python is awesome\n",
      "Python is awesome\n",
      "Python is awesome\n",
      "Python is awesome\n",
      "Python is awesome\n",
      "Python is awesome\n",
      "Python is awesome\n",
      "Python is awesome\n",
      "Python is awesome\n",
      "Python is awesome\n",
      "Python is awesome\n",
      "Python is awesome\n",
      "Python is awesome\n",
      "Python is awesome\n",
      "Python is awesome\n",
      "Python is awesome\n",
      "Python is awesome\n",
      "Python is awesome\n",
      "Python is awesome\n",
      "Python is awesome\n",
      "Python is awesome\n",
      "Python is awesome\n",
      "Python is awesome\n",
      "Python is awesome\n",
      "Python is awesome\n",
      "Python is awesome\n",
      "Python is awesome\n",
      "Python is awesome\n",
      "Python is awesome\n",
      "Python is awesome\n",
      "Python is awesome\n",
      "Python is awesome\n",
      "Python is awesome\n",
      "Python is awesome\n",
      "Python is awesome\n",
      "Python is awesome\n",
      "Python is awesome\n",
      "Python is awesome\n",
      "Python is awesome\n",
      "Python is awesome\n",
      "Python is awesome\n",
      "Python is awesome\n",
      "Python is awesome\n",
      "Python is awesome\n",
      "Python is awesome\n",
      "Python is awesome\n",
      "Python is awesome\n",
      "Python is awesome\n",
      "Python is awesome\n",
      "Python is awesome\n",
      "Python is awesome\n",
      "Python is awesome\n",
      "Python is awesome\n",
      "Python is awesome\n",
      "Python is awesome\n",
      "Python is awesome\n",
      "Python is awesome\n",
      "Python is awesome\n",
      "Python is awesome\n",
      "Python is awesome\n",
      "Python is awesome\n",
      "Python is awesome\n",
      "Python is awesome\n",
      "Python is awesome\n",
      "Python is awesome\n",
      "Python is awesome\n",
      "Python is awesome\n",
      "Python is awesome\n",
      "Python is awesome\n",
      "Python is awesome\n",
      "Python is awesome\n",
      "Python is awesome\n",
      "Python is awesome\n",
      "Python is awesome\n",
      "Python is awesome\n",
      "Python is awesome\n",
      "Python is awesome\n",
      "Python is awesome\n",
      "Python is awesome\n",
      "Python is awesome\n",
      "Python is awesome\n"
     ]
    }
   ],
   "source": [
    "#Python helps looping constructs to repeat the tasks\n",
    "#For loop\n",
    "#Ex:\n",
    "for i in range(100):\n",
    "    print(\"Python is awesome\")"
   ]
  },
  {
   "cell_type": "code",
   "execution_count": 44,
   "metadata": {},
   "outputs": [
    {
     "name": "stdout",
     "output_type": "stream",
     "text": [
      "11\n",
      "12\n",
      "13\n",
      "14\n",
      "15\n",
      "16\n",
      "17\n",
      "18\n",
      "19\n",
      "20\n",
      "21\n",
      "22\n",
      "23\n",
      "24\n",
      "25\n",
      "26\n",
      "27\n",
      "28\n",
      "29\n",
      "30\n",
      "31\n",
      "32\n",
      "33\n",
      "34\n",
      "35\n",
      "36\n",
      "37\n",
      "38\n",
      "39\n",
      "40\n",
      "41\n",
      "42\n",
      "43\n",
      "44\n",
      "45\n",
      "46\n",
      "47\n",
      "48\n",
      "49\n"
     ]
    }
   ],
   "source": [
    "#Ex: Write a loop to print all the numbers between 10 and 50\n",
    "\n",
    "for i in range(11,50):\n",
    "    print(i)"
   ]
  },
  {
   "cell_type": "code",
   "execution_count": 45,
   "metadata": {},
   "outputs": [
    {
     "name": "stdout",
     "output_type": "stream",
     "text": [
      "11\n",
      "13\n",
      "15\n",
      "17\n",
      "19\n",
      "21\n",
      "23\n",
      "25\n",
      "27\n",
      "29\n",
      "31\n",
      "33\n",
      "35\n",
      "37\n",
      "39\n",
      "41\n",
      "43\n",
      "45\n",
      "47\n",
      "49\n"
     ]
    }
   ],
   "source": [
    "#Ex: Write a for loop to print all the odd numbers between 10 and 50.\n",
    "for i in range(11,50,2):\n",
    "    print(i)\n"
   ]
  },
  {
   "cell_type": "markdown",
   "metadata": {},
   "source": [
    "### Functions"
   ]
  },
  {
   "cell_type": "code",
   "execution_count": 46,
   "metadata": {},
   "outputs": [],
   "source": [
    "#Function: \n",
    "#1.Re-usable piece of code\n",
    "#2.Created for solving specific problem\n",
    "#Functions are of 2 types\n",
    "#1.Built-in functions: print(),range(),min(),max(),..etc\n",
    "#2.User defined functions: def"
   ]
  },
  {
   "cell_type": "code",
   "execution_count": 49,
   "metadata": {},
   "outputs": [],
   "source": [
    "#Syntax for defining a function\n",
    "'''\n",
    "def function_name(arguments):\n",
    "    statement 1\n",
    "    statement 2\n",
    "    .........\n",
    "    .........\n",
    "    .........\n",
    "    return statement\n",
    "'''    \n",
    "#Ex: create a function to calculate the area of a circle, given a radius\n",
    "def area_circle(radius):\n",
    "    area=3.14*r*r\n",
    "    return area\n"
   ]
  },
  {
   "cell_type": "code",
   "execution_count": 50,
   "metadata": {},
   "outputs": [],
   "source": [
    "#Ex:Create a function that takes two numbers as argument and returns the greater of the two\n",
    "def compare(a,b):\n",
    "    if a>b:\n",
    "        greater=a\n",
    "    else:\n",
    "        greater=b\n",
    "        \n",
    "    return greater    \n"
   ]
  },
  {
   "cell_type": "code",
   "execution_count": 54,
   "metadata": {},
   "outputs": [
    {
     "data": {
      "text/plain": [
       "50"
      ]
     },
     "execution_count": 54,
     "metadata": {},
     "output_type": "execute_result"
    }
   ],
   "source": [
    "compare(10,50)"
   ]
  },
  {
   "cell_type": "markdown",
   "metadata": {},
   "source": [
    "### Data Structures"
   ]
  },
  {
   "cell_type": "code",
   "execution_count": null,
   "metadata": {},
   "outputs": [],
   "source": [
    "# Existing data types - int, float, bool, str\n",
    "# Problems with existing data types\n",
    "# 1. Data in a variable can be stored in a single format i.e either integers or decimals or strings..etc\n",
    "# 2. Large memory overhead by creating large number of variables.\n",
    "# 3. Unfit for storing large structured data.\n",
    "\n",
    "# To overcome these problems, there are two data structures for solving these problems\n",
    "# 1. Lists:Lists can store mix type of data in a sequential structure.\n",
    "# Ex: [1, 'Python', 2, 'is' , 3 , 'Awesome']\n",
    "\n",
    "# 2. Dictionaries:Dictionaries can also store mix type of data but unordered(not sequential structure).\n",
    "# Ex: {'Ramesh': 150, 'Sudesh': 160, 'Suresh':146}\n"
   ]
  },
  {
   "cell_type": "markdown",
   "metadata": {},
   "source": [
    "### Lists"
   ]
  },
  {
   "cell_type": "code",
   "execution_count": null,
   "metadata": {},
   "outputs": [],
   "source": [
    "# Imagine storing the marks of all the students of class 10th Roll Number wise.\n",
    "# We can use variables for solution, but variables are not a good solution.\n",
    "#Reasons why variables are not a good solution to our problem?\n",
    "#1. Large number of variables for large number of students in class.\n",
    "#2. What is the average marks of the last five students?\n",
    "#3. Marks of the student 3 roll numbers after 45.\n"
   ]
  },
  {
   "cell_type": "code",
   "execution_count": null,
   "metadata": {},
   "outputs": [],
   "source": [
    "'List: List is an ordered structure with elements separated by comma and enclosed within square brackets'\n",
    "#Single data type lists are #Ex: list1=[2,3,4,5,6]\n",
    "#Ex: list2=['Python','is','Awesome']\n",
    "\n",
    "#Mixed Data type list is #Ex: list3=[1,'Python',2,'is',3,'Awesome']"
   ]
  },
  {
   "cell_type": "code",
   "execution_count": null,
   "metadata": {},
   "outputs": [],
   "source": [
    "#Sub-setting a list:\n",
    "#Ex: list3=[1,'Python',2,'is',3,'Awesome']\n",
    "'list3[1] is 'Python' '\n",
    "'list3[4] is 3 '\n",
    "'list3[1:4] is ['Python',2,'is'] '\n",
    "'list3[-1] is 'Awesome' '"
   ]
  },
  {
   "cell_type": "code",
   "execution_count": 57,
   "metadata": {},
   "outputs": [
    {
     "data": {
      "text/plain": [
       "[1, 'Python', 2, 'is', 3, 'Awesome', 4]"
      ]
     },
     "execution_count": 57,
     "metadata": {},
     "output_type": "execute_result"
    }
   ],
   "source": [
    "#Adding a single element in to a list\n",
    "#Ex:\n",
    "list3=[1,'Python',2,'is',3,'Awesome']\n",
    "list3.append(4)\n",
    "list3"
   ]
  },
  {
   "cell_type": "code",
   "execution_count": 58,
   "metadata": {},
   "outputs": [
    {
     "data": {
      "text/plain": [
       "[1, 'Python', 2, 'is', 3, 'Awesome', 4, 5, 6]"
      ]
     },
     "execution_count": 58,
     "metadata": {},
     "output_type": "execute_result"
    }
   ],
   "source": [
    "#Adding multiple elements in to a list\n",
    "#Ex:\n",
    "list3=[1,'Python',2,'is',3,'Awesome',4]\n",
    "list3.extend([5,6])\n",
    "list3"
   ]
  },
  {
   "cell_type": "code",
   "execution_count": 59,
   "metadata": {},
   "outputs": [
    {
     "data": {
      "text/plain": [
       "[1, 'Python', 2, 'is', 3, 'Awesome', 4, 5, 6, [7, 8]]"
      ]
     },
     "execution_count": 59,
     "metadata": {},
     "output_type": "execute_result"
    }
   ],
   "source": [
    "#Adding list to a list\n",
    "#Ex:\n",
    "list3 =[1, 'Python', 2, 'is', 3, 'Awesome', 4, 5, 6]\n",
    "list3.append([7,8])\n",
    "list3\n"
   ]
  },
  {
   "cell_type": "code",
   "execution_count": 61,
   "metadata": {},
   "outputs": [
    {
     "data": {
      "text/plain": [
       "[1, 'Python', 'is', 3, 'Awesome', 4, 5, 6, [7, 8]]"
      ]
     },
     "execution_count": 61,
     "metadata": {},
     "output_type": "execute_result"
    }
   ],
   "source": [
    "#Deleting an element by value\n",
    "#Ex:\n",
    "list3 = [1, 'Python', 2, 'is', 3, 'Awesome', 4, 5, 6, [7, 8]]\n",
    "list3.remove(2)\n",
    "list3"
   ]
  },
  {
   "cell_type": "code",
   "execution_count": 62,
   "metadata": {},
   "outputs": [
    {
     "data": {
      "text/plain": [
       "[1, 'Python', 'is', 'Awesome', 4, 5, 6, [7, 8]]"
      ]
     },
     "execution_count": 62,
     "metadata": {},
     "output_type": "execute_result"
    }
   ],
   "source": [
    "#Deleting an element by index\n",
    "#Ex:\n",
    "list3 = [1, 'Python', 'is', 3, 'Awesome', 4, 5, 6, [7, 8]]\n",
    "del list3[3]\n",
    "list3"
   ]
  },
  {
   "cell_type": "code",
   "execution_count": 63,
   "metadata": {
    "scrolled": true
   },
   "outputs": [
    {
     "name": "stdout",
     "output_type": "stream",
     "text": [
      "1\n",
      "Python\n",
      "is\n",
      "Awesome\n",
      "4\n",
      "5\n",
      "6\n",
      "[7, 8]\n"
     ]
    }
   ],
   "source": [
    "#Looping over a list\n",
    "#Printing the each elements of a list\n",
    "list3 = [1, 'Python', 'is', 'Awesome', 4, 5, 6, [7, 8]]\n",
    "for i in list3:\n",
    "    print(i)"
   ]
  },
  {
   "cell_type": "markdown",
   "metadata": {},
   "source": [
    "## Dictionaries"
   ]
  },
  {
   "cell_type": "markdown",
   "metadata": {},
   "source": [
    "#### Dictionary: A dictionary is an un-ordered data structure with elements separated by comma and stored as key:value pair.\n",
    "#### A dictionary is enclosed within curly brackets\n",
    "#### Some examples of dictionary\n",
    "#### dict1={'Ramesh':150,'Suresh':146,'Sudesh':160} \n",
    "### here, value is a number\n",
    "#### dict2={'Ramesh':[150,46],'Suresh':[146,58],'Sudesh':[160,50]} \n",
    "### here, value is a list"
   ]
  },
  {
   "cell_type": "code",
   "execution_count": 64,
   "metadata": {},
   "outputs": [
    {
     "data": {
      "text/plain": [
       "[146, 58]"
      ]
     },
     "execution_count": 64,
     "metadata": {},
     "output_type": "execute_result"
    }
   ],
   "source": [
    "#Accessing elements of a dictionary\n",
    "#Elements are accessed by keys rather than index\n",
    "dict2={'Ramesh':[150,46],'Suresh':[146,58],'Sudesh':[160,50]}\n",
    "dict2['Suresh']"
   ]
  },
  {
   "cell_type": "code",
   "execution_count": 69,
   "metadata": {},
   "outputs": [
    {
     "data": {
      "text/plain": [
       "{'Ramesh': [150, 46], 'Suresh': [146, 58], 'Sudesh': [160, 50]}"
      ]
     },
     "execution_count": 69,
     "metadata": {},
     "output_type": "execute_result"
    }
   ],
   "source": [
    "#Add single elements to a dictionary\n",
    "dict2={'Ramesh': [150,46], 'Suresh': [146,58], 'Sudesh': [160,50]}\n",
    "dict2['Neeraj']:[176,75]\n",
    "dict2"
   ]
  },
  {
   "cell_type": "code",
   "execution_count": 70,
   "metadata": {},
   "outputs": [
    {
     "data": {
      "text/plain": [
       "{'Ramesh': [150, 46],\n",
       " 'Suresh': [146, 58],\n",
       " 'Sudesh': [160, 50],\n",
       " 'Sunil': [150, 70],\n",
       " 'disha': [155, 80]}"
      ]
     },
     "execution_count": 70,
     "metadata": {},
     "output_type": "execute_result"
    }
   ],
   "source": [
    "#Adding multiple elements in to a dictionary\n",
    "dict2={'Ramesh': [150, 46], 'Suresh': [146, 58], 'Sudesh': [160, 50]}\n",
    "dict2.update({'Sunil': [150,70],'disha':[155,80]})\n",
    "dict2"
   ]
  },
  {
   "cell_type": "code",
   "execution_count": 71,
   "metadata": {},
   "outputs": [
    {
     "data": {
      "text/plain": [
       "{'Suresh': [146, 58],\n",
       " 'Sudesh': [160, 50],\n",
       " 'Sunil': [150, 70],\n",
       " 'disha': [155, 80]}"
      ]
     },
     "execution_count": 71,
     "metadata": {},
     "output_type": "execute_result"
    }
   ],
   "source": [
    "#Deleting element of a dictionary\n",
    "dict2={'Ramesh': [150, 46],'Suresh': [146, 58],'Sudesh': [160, 50],'Sunil': [150, 70],'disha': [155, 80]}\n",
    "del dict2['Ramesh']\n",
    "dict2"
   ]
  },
  {
   "cell_type": "markdown",
   "metadata": {},
   "source": [
    "## Understanding the concept of Standard Libraries"
   ]
  },
  {
   "cell_type": "markdown",
   "metadata": {},
   "source": [
    "### Standard library: Standard library is a set of skills that python has by default\n",
    "\n",
    "#### Standard library is a collection of code we get when we installed python in our system\n",
    "\n",
    "##### Ex 1: Built-in functions like print(),max(),min()...etc\n",
    "##### Ex 2: Built-in constants like False, True, None...etc\n",
    "##### Ex 3: Data types like int, float, bool, string...etc\n",
    "##### EX 4: Different file formats like CSV, excel, hdf5...etc\n",
    "\n",
    "\n",
    "\n",
    "#### There are many other types of codes too.\n",
    "##### Ex : Code to handle internet connection...etc\n",
    "\n",
    "\n",
    "\n",
    "# Module\n",
    "\n",
    "### Ex 1:  Arithmetic.py - Module Consisting of different  arithmetic operators. Namely \n",
    "\n",
    "##### def addition():\n",
    "     ---------\n",
    "     ---------\n",
    "##### def subtraction():\n",
    "     ---------\n",
    "     ---------\n",
    "##### def multiplication():\n",
    "     ---------\n",
    "     ---------\n",
    "##### def division():\n",
    "     ---------\n",
    "     ---------\n",
    "\n",
    "\n",
    "### Ex 2: Logical.py - Module Consisting of different logical operators. Namely\n",
    "\n",
    "##### def and():\n",
    "     ---------\n",
    "     ---------\n",
    "##### def subtraction():\n",
    "     ---------\n",
    "     ---------\n",
    "##### def multiplication():\n",
    "     ---------\n",
    "     ---------\n",
    "##### def division():\n",
    "     ---------\n",
    "     ---------\n",
    "     \n",
    "     \n",
    "     \n",
    "# Package - Nothing but collection of modules\n",
    "\n",
    "### Operator - folder consisting of different modules\n",
    "\n",
    "### Ex 1:   Arithmetic.py\n",
    "###            Logical.py\n",
    "###            Comparison.py\n",
    "\n",
    "\n",
    "\n",
    "\n",
    "# Why do we import a module?\n",
    "\n",
    "### Ex 1 : from Operator.Arithmetic import addition -----> addition(3,5)\n",
    "\n",
    "### Ex 2 : from Operator import Arithmetic -----> Arithmetic.addition(3,5)\n"
   ]
  },
  {
   "cell_type": "code",
   "execution_count": null,
   "metadata": {},
   "outputs": [],
   "source": []
  },
  {
   "cell_type": "code",
   "execution_count": null,
   "metadata": {},
   "outputs": [],
   "source": []
  },
  {
   "cell_type": "code",
   "execution_count": null,
   "metadata": {},
   "outputs": [],
   "source": []
  },
  {
   "cell_type": "code",
   "execution_count": null,
   "metadata": {},
   "outputs": [],
   "source": []
  },
  {
   "cell_type": "code",
   "execution_count": null,
   "metadata": {},
   "outputs": [],
   "source": []
  },
  {
   "cell_type": "code",
   "execution_count": null,
   "metadata": {},
   "outputs": [],
   "source": []
  },
  {
   "cell_type": "code",
   "execution_count": null,
   "metadata": {},
   "outputs": [],
   "source": []
  },
  {
   "cell_type": "code",
   "execution_count": null,
   "metadata": {},
   "outputs": [],
   "source": []
  },
  {
   "cell_type": "code",
   "execution_count": null,
   "metadata": {},
   "outputs": [],
   "source": []
  },
  {
   "cell_type": "code",
   "execution_count": null,
   "metadata": {},
   "outputs": [],
   "source": []
  },
  {
   "cell_type": "code",
   "execution_count": null,
   "metadata": {},
   "outputs": [],
   "source": []
  },
  {
   "cell_type": "code",
   "execution_count": null,
   "metadata": {},
   "outputs": [],
   "source": []
  },
  {
   "cell_type": "code",
   "execution_count": null,
   "metadata": {},
   "outputs": [],
   "source": []
  },
  {
   "cell_type": "code",
   "execution_count": null,
   "metadata": {},
   "outputs": [],
   "source": []
  },
  {
   "cell_type": "code",
   "execution_count": null,
   "metadata": {},
   "outputs": [],
   "source": []
  },
  {
   "cell_type": "code",
   "execution_count": null,
   "metadata": {},
   "outputs": [],
   "source": []
  },
  {
   "cell_type": "code",
   "execution_count": null,
   "metadata": {},
   "outputs": [],
   "source": []
  },
  {
   "cell_type": "code",
   "execution_count": null,
   "metadata": {},
   "outputs": [],
   "source": []
  },
  {
   "cell_type": "code",
   "execution_count": null,
   "metadata": {},
   "outputs": [],
   "source": []
  },
  {
   "cell_type": "code",
   "execution_count": null,
   "metadata": {},
   "outputs": [],
   "source": []
  },
  {
   "cell_type": "code",
   "execution_count": null,
   "metadata": {},
   "outputs": [],
   "source": []
  },
  {
   "cell_type": "code",
   "execution_count": null,
   "metadata": {},
   "outputs": [],
   "source": []
  },
  {
   "cell_type": "code",
   "execution_count": null,
   "metadata": {},
   "outputs": [],
   "source": []
  },
  {
   "cell_type": "code",
   "execution_count": null,
   "metadata": {},
   "outputs": [],
   "source": []
  },
  {
   "cell_type": "code",
   "execution_count": null,
   "metadata": {},
   "outputs": [],
   "source": []
  },
  {
   "cell_type": "code",
   "execution_count": null,
   "metadata": {},
   "outputs": [],
   "source": []
  },
  {
   "cell_type": "code",
   "execution_count": null,
   "metadata": {},
   "outputs": [],
   "source": []
  },
  {
   "cell_type": "code",
   "execution_count": null,
   "metadata": {},
   "outputs": [],
   "source": []
  },
  {
   "cell_type": "code",
   "execution_count": null,
   "metadata": {},
   "outputs": [],
   "source": []
  },
  {
   "cell_type": "code",
   "execution_count": null,
   "metadata": {},
   "outputs": [],
   "source": []
  },
  {
   "cell_type": "code",
   "execution_count": null,
   "metadata": {},
   "outputs": [],
   "source": []
  },
  {
   "cell_type": "code",
   "execution_count": null,
   "metadata": {},
   "outputs": [],
   "source": []
  },
  {
   "cell_type": "code",
   "execution_count": null,
   "metadata": {},
   "outputs": [],
   "source": []
  },
  {
   "cell_type": "code",
   "execution_count": null,
   "metadata": {},
   "outputs": [],
   "source": []
  },
  {
   "cell_type": "code",
   "execution_count": null,
   "metadata": {},
   "outputs": [],
   "source": []
  },
  {
   "cell_type": "code",
   "execution_count": null,
   "metadata": {},
   "outputs": [],
   "source": []
  },
  {
   "cell_type": "code",
   "execution_count": null,
   "metadata": {},
   "outputs": [],
   "source": []
  },
  {
   "cell_type": "code",
   "execution_count": null,
   "metadata": {},
   "outputs": [],
   "source": []
  },
  {
   "cell_type": "code",
   "execution_count": null,
   "metadata": {},
   "outputs": [],
   "source": []
  },
  {
   "cell_type": "code",
   "execution_count": null,
   "metadata": {},
   "outputs": [],
   "source": []
  },
  {
   "cell_type": "code",
   "execution_count": null,
   "metadata": {},
   "outputs": [],
   "source": []
  },
  {
   "cell_type": "code",
   "execution_count": null,
   "metadata": {},
   "outputs": [],
   "source": []
  },
  {
   "cell_type": "code",
   "execution_count": null,
   "metadata": {},
   "outputs": [],
   "source": []
  },
  {
   "cell_type": "code",
   "execution_count": null,
   "metadata": {},
   "outputs": [],
   "source": []
  },
  {
   "cell_type": "code",
   "execution_count": null,
   "metadata": {},
   "outputs": [],
   "source": []
  },
  {
   "cell_type": "code",
   "execution_count": null,
   "metadata": {},
   "outputs": [],
   "source": []
  },
  {
   "cell_type": "code",
   "execution_count": null,
   "metadata": {},
   "outputs": [],
   "source": []
  },
  {
   "cell_type": "code",
   "execution_count": null,
   "metadata": {},
   "outputs": [],
   "source": []
  },
  {
   "cell_type": "code",
   "execution_count": null,
   "metadata": {},
   "outputs": [],
   "source": []
  },
  {
   "cell_type": "code",
   "execution_count": null,
   "metadata": {},
   "outputs": [],
   "source": []
  },
  {
   "cell_type": "code",
   "execution_count": null,
   "metadata": {},
   "outputs": [],
   "source": []
  },
  {
   "cell_type": "code",
   "execution_count": null,
   "metadata": {},
   "outputs": [],
   "source": []
  },
  {
   "cell_type": "code",
   "execution_count": null,
   "metadata": {},
   "outputs": [],
   "source": []
  },
  {
   "cell_type": "code",
   "execution_count": null,
   "metadata": {},
   "outputs": [],
   "source": []
  },
  {
   "cell_type": "code",
   "execution_count": null,
   "metadata": {},
   "outputs": [],
   "source": []
  },
  {
   "cell_type": "code",
   "execution_count": null,
   "metadata": {},
   "outputs": [],
   "source": []
  },
  {
   "cell_type": "code",
   "execution_count": null,
   "metadata": {},
   "outputs": [],
   "source": []
  },
  {
   "cell_type": "code",
   "execution_count": null,
   "metadata": {},
   "outputs": [],
   "source": []
  },
  {
   "cell_type": "code",
   "execution_count": null,
   "metadata": {},
   "outputs": [],
   "source": []
  },
  {
   "cell_type": "code",
   "execution_count": null,
   "metadata": {},
   "outputs": [],
   "source": []
  },
  {
   "cell_type": "code",
   "execution_count": null,
   "metadata": {},
   "outputs": [],
   "source": []
  },
  {
   "cell_type": "code",
   "execution_count": null,
   "metadata": {},
   "outputs": [],
   "source": []
  },
  {
   "cell_type": "code",
   "execution_count": null,
   "metadata": {},
   "outputs": [],
   "source": []
  },
  {
   "cell_type": "code",
   "execution_count": null,
   "metadata": {},
   "outputs": [],
   "source": []
  },
  {
   "cell_type": "code",
   "execution_count": null,
   "metadata": {},
   "outputs": [],
   "source": []
  },
  {
   "cell_type": "code",
   "execution_count": null,
   "metadata": {},
   "outputs": [],
   "source": []
  },
  {
   "cell_type": "code",
   "execution_count": null,
   "metadata": {},
   "outputs": [],
   "source": []
  },
  {
   "cell_type": "code",
   "execution_count": null,
   "metadata": {},
   "outputs": [],
   "source": []
  },
  {
   "cell_type": "code",
   "execution_count": null,
   "metadata": {},
   "outputs": [],
   "source": []
  },
  {
   "cell_type": "code",
   "execution_count": null,
   "metadata": {},
   "outputs": [],
   "source": []
  },
  {
   "cell_type": "code",
   "execution_count": null,
   "metadata": {},
   "outputs": [],
   "source": []
  },
  {
   "cell_type": "code",
   "execution_count": null,
   "metadata": {},
   "outputs": [],
   "source": []
  },
  {
   "cell_type": "code",
   "execution_count": null,
   "metadata": {},
   "outputs": [],
   "source": []
  },
  {
   "cell_type": "code",
   "execution_count": null,
   "metadata": {},
   "outputs": [],
   "source": []
  },
  {
   "cell_type": "code",
   "execution_count": null,
   "metadata": {},
   "outputs": [],
   "source": []
  },
  {
   "cell_type": "code",
   "execution_count": null,
   "metadata": {},
   "outputs": [],
   "source": []
  },
  {
   "cell_type": "code",
   "execution_count": null,
   "metadata": {},
   "outputs": [],
   "source": []
  },
  {
   "cell_type": "code",
   "execution_count": null,
   "metadata": {},
   "outputs": [],
   "source": []
  },
  {
   "cell_type": "code",
   "execution_count": null,
   "metadata": {},
   "outputs": [],
   "source": []
  },
  {
   "cell_type": "code",
   "execution_count": null,
   "metadata": {},
   "outputs": [],
   "source": []
  },
  {
   "cell_type": "code",
   "execution_count": null,
   "metadata": {},
   "outputs": [],
   "source": []
  },
  {
   "cell_type": "code",
   "execution_count": null,
   "metadata": {},
   "outputs": [],
   "source": []
  },
  {
   "cell_type": "code",
   "execution_count": null,
   "metadata": {},
   "outputs": [],
   "source": []
  },
  {
   "cell_type": "code",
   "execution_count": null,
   "metadata": {},
   "outputs": [],
   "source": []
  },
  {
   "cell_type": "code",
   "execution_count": null,
   "metadata": {},
   "outputs": [],
   "source": []
  },
  {
   "cell_type": "code",
   "execution_count": null,
   "metadata": {},
   "outputs": [],
   "source": []
  },
  {
   "cell_type": "code",
   "execution_count": null,
   "metadata": {},
   "outputs": [],
   "source": []
  },
  {
   "cell_type": "code",
   "execution_count": null,
   "metadata": {},
   "outputs": [],
   "source": []
  },
  {
   "cell_type": "code",
   "execution_count": null,
   "metadata": {},
   "outputs": [],
   "source": []
  },
  {
   "cell_type": "code",
   "execution_count": null,
   "metadata": {},
   "outputs": [],
   "source": []
  },
  {
   "cell_type": "code",
   "execution_count": null,
   "metadata": {},
   "outputs": [],
   "source": []
  },
  {
   "cell_type": "code",
   "execution_count": null,
   "metadata": {},
   "outputs": [],
   "source": []
  },
  {
   "cell_type": "code",
   "execution_count": null,
   "metadata": {},
   "outputs": [],
   "source": []
  },
  {
   "cell_type": "code",
   "execution_count": null,
   "metadata": {},
   "outputs": [],
   "source": []
  },
  {
   "cell_type": "code",
   "execution_count": null,
   "metadata": {},
   "outputs": [],
   "source": []
  }
 ],
 "metadata": {
  "kernelspec": {
   "display_name": "Python 3 (ipykernel)",
   "language": "python",
   "name": "python3"
  },
  "language_info": {
   "codemirror_mode": {
    "name": "ipython",
    "version": 3
   },
   "file_extension": ".py",
   "mimetype": "text/x-python",
   "name": "python",
   "nbconvert_exporter": "python",
   "pygments_lexer": "ipython3",
   "version": "3.10.9"
  }
 },
 "nbformat": 4,
 "nbformat_minor": 4
}
