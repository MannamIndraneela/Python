{
 "cells": [
  {
   "cell_type": "code",
   "execution_count": 1,
   "metadata": {},
   "outputs": [],
   "source": [
    "# Addition function\n",
    "\n",
    "def add(num):\n",
    "    \"\"\"\n",
    "    \n",
    "    \"\"\"\n",
    "    print(num+10)"
   ]
  },
  {
   "cell_type": "code",
   "execution_count": 2,
   "metadata": {},
   "outputs": [
    {
     "name": "stdout",
     "output_type": "stream",
     "text": [
      "15\n"
     ]
    }
   ],
   "source": [
    "add(5)"
   ]
  },
  {
   "cell_type": "code",
   "execution_count": 3,
   "metadata": {},
   "outputs": [],
   "source": [
    "def addition_two_numbers(a,b):\n",
    "    \"\"\"\n",
    "    \"\"\"\n",
    "    print(a+b)"
   ]
  },
  {
   "cell_type": "code",
   "execution_count": 5,
   "metadata": {},
   "outputs": [
    {
     "name": "stdout",
     "output_type": "stream",
     "text": [
      "187\n"
     ]
    }
   ],
   "source": [
    "addition_two_numbers(99,88)"
   ]
  },
  {
   "cell_type": "code",
   "execution_count": 6,
   "metadata": {},
   "outputs": [
    {
     "name": "stdout",
     "output_type": "stream",
     "text": [
      "16\n"
     ]
    }
   ],
   "source": [
    "addition_two_numbers(7,9)"
   ]
  },
  {
   "cell_type": "code",
   "execution_count": 7,
   "metadata": {},
   "outputs": [
    {
     "name": "stdout",
     "output_type": "stream",
     "text": [
      "20.9\n"
     ]
    }
   ],
   "source": [
    "addition_two_numbers(9.8,11.1)"
   ]
  },
  {
   "cell_type": "code",
   "execution_count": 8,
   "metadata": {},
   "outputs": [],
   "source": [
    "# Return the sum of two numbers\n",
    "def add2(a,b):\n",
    "    return a+b\n"
   ]
  },
  {
   "cell_type": "code",
   "execution_count": 9,
   "metadata": {},
   "outputs": [
    {
     "data": {
      "text/plain": [
       "25"
      ]
     },
     "execution_count": 9,
     "metadata": {},
     "output_type": "execute_result"
    }
   ],
   "source": [
    "add2(10,15)"
   ]
  },
  {
   "cell_type": "code",
   "execution_count": 10,
   "metadata": {},
   "outputs": [
    {
     "name": "stdout",
     "output_type": "stream",
     "text": [
      "29\n"
     ]
    }
   ],
   "source": [
    "c = add2(15,14)\n",
    "print(c)"
   ]
  },
  {
   "cell_type": "code",
   "execution_count": 54,
   "metadata": {},
   "outputs": [],
   "source": [
    "sentence = \"\"\"Hello everybody I am learning Data Science. \n",
    "I am learning about how to crush large amount of data. \n",
    "This helps us understand the past and predict the future.\"\"\""
   ]
  },
  {
   "cell_type": "code",
   "execution_count": 1,
   "metadata": {},
   "outputs": [],
   "source": [
    "def sentence_word_counter(sentence):\n",
    "    sentence = sentence.lower()\n",
    "    sentence = sentence.replace('.','')\n",
    "    sentence = sentence.replace('\\n','')\n",
    "    sentence_list = sentence.split(' ')\n",
    "    word_dict = dict()\n",
    "    for word in sentence_list:\n",
    "        if word =='':\n",
    "            continue\n",
    "        word_dict[word] = sentence_list.count(word)\n",
    "    return word_dict"
   ]
  },
  {
   "cell_type": "code",
   "execution_count": 2,
   "metadata": {},
   "outputs": [
    {
     "name": "stdout",
     "output_type": "stream",
     "text": [
      "Enter the sentence: Hello everybody I am learning Data Science.  I am learning about how to crush large amount of data.  This helps us understand the past and predict the future.\n",
      "worddictionary is {'hello': 1, 'everybody': 1, 'i': 2, 'am': 2, 'learning': 2, 'data': 2, 'science': 1, 'about': 1, 'how': 1, 'to': 1, 'crush': 1, 'large': 1, 'amount': 1, 'of': 1, 'this': 1, 'helps': 1, 'us': 1, 'understand': 1, 'the': 2, 'past': 1, 'and': 1, 'predict': 1, 'future': 1}\n"
     ]
    }
   ],
   "source": [
    "my_sentence = input(\"Enter the sentence: \")\n",
    "print(\"worddictionary is\",sentence_word_counter(my_sentence))"
   ]
  },
  {
   "cell_type": "code",
   "execution_count": 3,
   "metadata": {},
   "outputs": [
    {
     "name": "stdout",
     "output_type": "stream",
     "text": [
      "about : 1\n",
      "am : 2\n",
      "amount : 1\n",
      "and : 1\n",
      "crush : 1\n",
      "data : 2\n",
      "everybody : 1\n",
      "future : 1\n",
      "hello : 1\n",
      "helps : 1\n",
      "how : 1\n",
      "i : 2\n",
      "large : 1\n",
      "learning : 2\n",
      "of : 1\n",
      "past : 1\n",
      "predict : 1\n",
      "science : 1\n",
      "the : 2\n",
      "this : 1\n",
      "to : 1\n",
      "understand : 1\n",
      "us : 1\n"
     ]
    }
   ],
   "source": [
    "mysen = \"\"\"Hello everybody I am learning Data Science. \n",
    "        I am learning about how to crush large amount of data. \n",
    "        This helps us understand the past and predict the future.\"\"\"\n",
    "result = sentence_word_counter(mysen)\n",
    "\n",
    "for word in sorted(result.keys()):\n",
    "    if word == ' ':\n",
    "        continue\n",
    "    print(word +\" : \" +str(result[word]))"
   ]
  },
  {
   "cell_type": "code",
   "execution_count": null,
   "metadata": {},
   "outputs": [],
   "source": [
    "## Quick Task : Create a loan interest Calculator\n",
    "1. Ask user to enter Total price, Downpayment, Rate of interest(rete per year),Time Duration(years)\n",
    "2. Compute Interest on principle amount\n",
    "3. Print the simple interest and the final amount user will pay\n",
    "4. Formula interest = (price-downpayment)rate*time/100\n",
    "5. amount = price-downpayment+interest\n",
    "6.emi = amount/(time*12)\n",
    "7. Possible checks if downpayment>price:\n",
    "8. All inputs should be numbers(either integers or floats)"
   ]
  },
  {
   "cell_type": "code",
   "execution_count": 7,
   "metadata": {},
   "outputs": [],
   "source": [
    "def loan_counter():\n",
    "    totalprice = int(input(\"Enter Total Price: \"))\n",
    "    Dpayment = float(input(\"Enter downpayment: \"))\n",
    "    RI = float(input(\"Enter rate of interest: \"))\n",
    "    timeduration = float(input(\"Enter number of years: \"))\n",
    "    if Dpayment<totalprice:\n",
    "        interest = (Dpayment)*RI*timeduration/100\n",
    "        amount = Dpayment + interest\n",
    "        emi = amount/(timeduration*12)\n",
    "        print(interest)\n",
    "        print(amount)\n",
    "        print(emi)"
   ]
  },
  {
   "cell_type": "code",
   "execution_count": 8,
   "metadata": {},
   "outputs": [
    {
     "name": "stdout",
     "output_type": "stream",
     "text": [
      "Enter Total Price: 2000\n",
      "Enter downpayment: 1\n",
      "Enter rate of interest: 1\n",
      "Enter number of years: 1\n",
      "0.01\n",
      "1.01\n",
      "0.08416666666666667\n"
     ]
    }
   ],
   "source": [
    "loan_counter()"
   ]
  },
  {
   "cell_type": "code",
   "execution_count": 11,
   "metadata": {},
   "outputs": [],
   "source": [
    "def loan_counter():\n",
    "    totalprice = int(input(\"Enter Total Price: \"))\n",
    "    Dpayment = float(input(\"Enter downpayment: \"))\n",
    "    RI = float(input(\"Enter rate of interest: \"))\n",
    "    timeduration = float(input(\"Enter number of years: \"))\n",
    "    if Dpayment < totalprice:\n",
    "        interest = (Dpayment)*RI*timeduration/100\n",
    "        amount = Dpayment + interest\n",
    "        emi = amount/(timeduration*12)\n",
    "        print(interest)\n",
    "        print(amount)\n",
    "        print(emi)\n"
   ]
  },
  {
   "cell_type": "code",
   "execution_count": 12,
   "metadata": {},
   "outputs": [
    {
     "name": "stdout",
     "output_type": "stream",
     "text": [
      "Enter Total Price: 5000\n",
      "Enter downpayment: 200\n",
      "Enter rate of interest: 2\n",
      "Enter number of years: 1\n",
      "4.0\n",
      "204.0\n",
      "17.0\n"
     ]
    }
   ],
   "source": [
    "loan_counter()\n"
   ]
  },
  {
   "cell_type": "code",
   "execution_count": null,
   "metadata": {},
   "outputs": [],
   "source": []
  }
 ],
 "metadata": {
  "kernelspec": {
   "display_name": "Python 3",
   "language": "python",
   "name": "python3"
  },
  "language_info": {
   "codemirror_mode": {
    "name": "ipython",
    "version": 3
   },
   "file_extension": ".py",
   "mimetype": "text/x-python",
   "name": "python",
   "nbconvert_exporter": "python",
   "pygments_lexer": "ipython3",
   "version": "3.8.5"
  }
 },
 "nbformat": 4,
 "nbformat_minor": 4
}
